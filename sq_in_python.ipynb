{
 "cells": [
  {
   "cell_type": "code",
   "execution_count": null,
   "id": "8d688a95",
   "metadata": {},
   "outputs": [],
   "source": []
  },
  {
   "cell_type": "code",
   "execution_count": null,
   "id": "99e13858",
   "metadata": {},
   "outputs": [],
   "source": [
    "import psycop2 as pg2 "
   ]
  },
  {
   "cell_type": "code",
   "execution_count": null,
   "id": "59f3695a",
   "metadata": {},
   "outputs": [],
   "source": [
    "conn=pg2.connect(database='dvdrental',user='postgres',password='sadfjafdn')"
   ]
  },
  {
   "cell_type": "code",
   "execution_count": null,
   "id": "b777620a",
   "metadata": {},
   "outputs": [],
   "source": [
    "cur=conn.cursor() #cursor object"
   ]
  },
  {
   "cell_type": "code",
   "execution_count": null,
   "id": "ddec3735",
   "metadata": {},
   "outputs": [],
   "source": [
    "cur.execute('SELECT * payment')"
   ]
  },
  {
   "cell_type": "code",
   "execution_count": null,
   "id": "9f8ae06f",
   "metadata": {},
   "outputs": [],
   "source": [
    "data=cur.fetchmany(10)"
   ]
  },
  {
   "cell_type": "code",
   "execution_count": null,
   "id": "ebca5563",
   "metadata": {},
   "outputs": [],
   "source": [
    "data[0][2]"
   ]
  },
  {
   "cell_type": "code",
   "execution_count": null,
   "id": "b1ed284e",
   "metadata": {},
   "outputs": [],
   "source": [
    "conn.close()"
   ]
  }
 ],
 "metadata": {
  "kernelspec": {
   "display_name": "Python 3",
   "language": "python",
   "name": "python3"
  },
  "language_info": {
   "codemirror_mode": {
    "name": "ipython",
    "version": 3
   },
   "file_extension": ".py",
   "mimetype": "text/x-python",
   "name": "python",
   "nbconvert_exporter": "python",
   "pygments_lexer": "ipython3",
   "version": "3.12.3"
  }
 },
 "nbformat": 4,
 "nbformat_minor": 5
}
